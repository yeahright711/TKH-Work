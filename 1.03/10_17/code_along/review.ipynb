{
 "cells": [
  {
   "cell_type": "markdown",
   "metadata": {},
   "source": [
    "# Review"
   ]
  },
  {
   "cell_type": "code",
   "execution_count": 26,
   "metadata": {},
   "outputs": [],
   "source": [
    "class Pokemon:\n",
    "    def __init__(self, name, hp, ap):\n",
    "        self.name = name\n",
    "        self.hp = hp\n",
    "        self.ap = ap\n",
    "    \n",
    "    def attack(self, other):\n",
    "        other.hp -= self.ap\n",
    "\n",
    "pokA = Pokemon(\"charmander\", 100, 20)\n",
    "pokB = Pokemon(\"squirtle\", 100, 30)"
   ]
  },
  {
   "cell_type": "code",
   "execution_count": null,
   "metadata": {},
   "outputs": [],
   "source": [
    "# what are the attributes of this class?\n",
    "#(name, hp, ap) things being assigned in the in_it method."
   ]
  },
  {
   "cell_type": "code",
   "execution_count": null,
   "metadata": {},
   "outputs": [],
   "source": [
    "# what are the methods of this class?\n",
    "#_init_ attack (attack)"
   ]
  },
  {
   "cell_type": "code",
   "execution_count": 27,
   "metadata": {},
   "outputs": [
    {
     "name": "stdout",
     "output_type": "stream",
     "text": [
      "100\n",
      "80\n"
     ]
    }
   ],
   "source": [
    "# what will be the result of the following code?\n",
    "\n",
    "pokA.attack(pokB)\n",
    "print(pokA.hp)\n",
    "print(pokB.hp)"
   ]
  },
  {
   "cell_type": "code",
   "execution_count": 28,
   "metadata": {},
   "outputs": [],
   "source": [
    "# how can I create a 3rd Pokemon object ‘pokC’ with name “bulbasaur”, health 80, and attack 30.\n",
    "# pokC = Pokemon(\"bulbasaur\", 80, 30)\n"
   ]
  }
 ],
 "metadata": {
  "kernelspec": {
   "display_name": "phase1",
   "language": "python",
   "name": "python3"
  },
  "language_info": {
   "codemirror_mode": {
    "name": "ipython",
    "version": 3
   },
   "file_extension": ".py",
   "mimetype": "text/x-python",
   "name": "python",
   "nbconvert_exporter": "python",
   "pygments_lexer": "ipython3",
   "version": "3.9.18"
  }
 },
 "nbformat": 4,
 "nbformat_minor": 2
}
